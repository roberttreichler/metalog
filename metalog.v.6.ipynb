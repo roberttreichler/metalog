{
 "cells": [
  {
   "cell_type": "markdown",
   "metadata": {},
   "source": [
    "Probability Distributions to Represent Any Continuous Uncertainty"
   ]
  },
  {
   "cell_type": "markdown",
   "metadata": {
    "collapsed": true
   },
   "source": [
    "The metalog distributions are an innovative new family of continuous probability distributions that better meet many of today’s needs than conventional distributions from centuries past.  The metalogs can represent a much wider range of shapes than conventional distributions like the normal, lognormal, beta, or triangular. Being quantile-parameterized, metalogs automatically mold themselves to assessed or empirical data, eliminating any need for curve-fitting.  They offer a choice among unbounded, semi-bounded, and bounded forms and have simple, closed-form, easy-to-program equations – making them ideal for decision analysis, simulation, and instant representation of most any assessed or empirical probabilistic data.  "
   ]
  },
  {
   "cell_type": "markdown",
   "metadata": {
    "collapsed": true
   },
   "source": [
    "The metalog distributions constitute a new system of continuous univariate probability distributions\n",
    "designed for flexibility, simplicity, and ease/speed of use in practice.\n",
    "\n",
    "The metalog is a series expansion of the parameters of the\n",
    "logistic quantile function.\n",
    "\n",
    "“metalog” is short for “meta logistic”\n",
    "\n",
    "Representing/summarizing data with a smooth distribution that adheres to the shape of the data\n",
    "\n"
   ]
  },
  {
   "cell_type": "code",
   "execution_count": 1,
   "metadata": {
    "collapsed": true
   },
   "outputs": [],
   "source": [
    "import pandas as pd\n",
    "import numpy as np\n",
    "import matplotlib.pyplot as plt"
   ]
  },
  {
   "cell_type": "markdown",
   "metadata": {},
   "source": [
    "x-> Input parameters of any series. Simply set x equal to a list. "
   ]
  },
  {
   "cell_type": "markdown",
   "metadata": {},
   "source": [
    "![title](Y.png)"
   ]
  },
  {
   "cell_type": "code",
   "execution_count": 2,
   "metadata": {
    "collapsed": true
   },
   "outputs": [],
   "source": [
    "#Y-matrix\n",
    "#Y-matrix for the 10-term metalog. \n",
    "#The first n columns of this matrix are used to calculate scaling constants (a1, … an) according to a = [YTY]-1YTz.\n",
    "\n",
    "\n",
    "def y10_z(x,bound,lower_bound,upper_bound):\n",
    "    #y10 and & z\n",
    "    \n",
    "    #Number of cdf  data points in use for input parameters. \n",
    "    #Calculated as the number of numeric y input-parameter cells.\n",
    "    df=pd.DataFrame(x.values,columns=['x'])\n",
    "    df['y']=(df.index+1-.5)/len(x)\n",
    "\n",
    "    if bound==0:\n",
    "        df['z']=df['x']\n",
    "    if bound==1:\n",
    "        df['z']=np.log(df['x']-lower_bound)\n",
    "    if bound==2:\n",
    "        df['z']=np.log((df['x']-lower_bound)/(upper_bound-df['x']))\n",
    "\n",
    "    df['y10_0']=1\n",
    "    df['y10_1']=np.log(df['y']/(1-df['y']))   #np.log(B20/(1-B20))\n",
    "    df['y10_2']=(df['y']-0.5)*df['y10_1']   #(B20-0.5)*BE79\n",
    "    df['y10_3']=df['y']-0.5                #B20-0.5\n",
    "    df['y10_4']=df['y10_3']**2            #BG79^2\n",
    "    df['y10_5']=df['y10_1']*df['y10_4']   #BE79*BH79\n",
    "    df['y10_6']=df['y10_3']**3            #BG79^3\n",
    "    df['y10_7']=df['y10_1']*df['y10_6']   #BE79*BJ79\n",
    "    df['y10_8']=df['y10_3']**4            #BG79^4\n",
    "    df['y10_9']=df['y10_1']*df['y10_8']   #BE79*BL79\n",
    "\n",
    "    \n",
    "    #matrix inversion\n",
    "    \n",
    "    mi1=np.dot(df['z'].values,np.matrix(df[df.columns[3:5]]))*np.linalg.inv(np.matrix(df[df.columns[3:5]]).T*np.matrix(df[df.columns[3:5]]))\n",
    "    mi2=np.dot(df['z'].values,np.matrix(df[df.columns[3:6]]))*np.linalg.inv(np.matrix(df[df.columns[3:6]]).T*np.matrix(df[df.columns[3:6]]))\n",
    "    mi3=np.dot(df['z'].values,np.matrix(df[df.columns[3:7]]))*np.linalg.inv(np.matrix(df[df.columns[3:7]]).T*np.matrix(df[df.columns[3:7]]))\n",
    "    mi4=np.dot(df['z'].values,np.matrix(df[df.columns[3:8]]))*np.linalg.inv(np.matrix(df[df.columns[3:8]]).T*np.matrix(df[df.columns[3:8]]))\n",
    "    mi5=np.dot(df['z'].values,np.matrix(df[df.columns[3:9]]))*np.linalg.inv(np.matrix(df[df.columns[3:9]]).T*np.matrix(df[df.columns[3:9]]))\n",
    "    mi6=np.dot(df['z'].values,np.matrix(df[df.columns[3:10]]))*np.linalg.inv(np.matrix(df[df.columns[3:10]]).T*np.matrix(df[df.columns[3:10]]))\n",
    "    mi7=np.dot(df['z'].values,np.matrix(df[df.columns[3:11]]))*np.linalg.inv(np.matrix(df[df.columns[3:11]]).T*np.matrix(df[df.columns[3:11]]))\n",
    "    mi8=np.dot(df['z'].values,np.matrix(df[df.columns[3:12]]))*np.linalg.inv(np.matrix(df[df.columns[3:12]]).T*np.matrix(df[df.columns[3:12]]))\n",
    "    mi9=np.dot(df['z'].values,np.matrix(df[df.columns[3:13]]))*np.linalg.inv(np.matrix(df[df.columns[3:13]]).T*np.matrix(df[df.columns[3:13]]))\n",
    "\n",
    "    return mi1, mi2, mi3, mi4, mi5, mi6, mi7, mi8, mi9"
   ]
  },
  {
   "cell_type": "markdown",
   "metadata": {},
   "source": [
    "![title](terms.jpg)"
   ]
  },
  {
   "cell_type": "markdown",
   "metadata": {},
   "source": [
    "feasibility\n",
    "\n",
    "CDF is strictly increasing. Equivalently, PDF is positive for 0<y<1\n",
    "\n",
    "Feasibility of (x ,y ) :\n",
    "*\n",
    "invertibility guaranteed\n",
    "except in pathological cases\n",
    "Mn(y) is strictly increasing. Equivalently, density function mn(y) is positive over 0<y<1."
   ]
  },
  {
   "cell_type": "code",
   "execution_count": 3,
   "metadata": {
    "collapsed": false
   },
   "outputs": [],
   "source": [
    "#logistic distribution\n",
    "def term_1_and_2(a1,a2,y):\n",
    "    return a1 + a2*np.log(y/(1-y))\n",
    "\n",
    "#skewness term\n",
    "def term_3(a3,y):\n",
    "    return a3*(y-0.5)*np.log(y/(1-y))\n",
    "\n",
    "#kurtosis term\n",
    "def term_4(a4,y):\n",
    "    return a4*(y-0.5)\n",
    "\n",
    "def term_5(a5,y):\n",
    "    return a5*(y-0.5)**2\n",
    "\n",
    "def term_6(a6,y):\n",
    "    return (a6*(y-0.5)**2)*np.log(y/(1-y))\n",
    "\n",
    "def term_7(a7,y):\n",
    "    return a7*(y-0.5)**3\n",
    "\n",
    "def term_8(a8,y):\n",
    "    return (a8*(y-0.5)**3)*np.log(y/(1-y))\n",
    "\n",
    "def term_9(a9,y):\n",
    "    return a9*(y-0.5)**4\n",
    "\n",
    "def term_10(a10,y):\n",
    "    return (a10*(y-0.5)**4)*np.log(y/(1-y))\n",
    "\n",
    "def feas_term_2(a2,y):\n",
    "    return a2/(y*(1-y))\n",
    "\n",
    "def feas_term_3(a3,y):\n",
    "    return a3*((y-0.5)/(y*(1-y)) + np.log(y/(1-y)))\n",
    "\n",
    "def feas_term_4(a4):\n",
    "    return a4\n",
    "\n",
    "def feas_term_5(a5,y):\n",
    "    return 2*a5*(y-0.5)\n",
    "           \n",
    "def feas_term_6(a6,y):\n",
    "    return a6*((y-0.5)**2 /(y*(1-y)) + 2*(y-0.5)*np.log(y/(1-y)))\n",
    "\n",
    "def feas_term_7(a7,y):\n",
    "    return 3*a7*(y-0.5)**2\n",
    "\n",
    "def feas_term_8(a8,y):\n",
    "    return a8*((y-0.5)**3/(y*(1-y))  + 3*(y-0.5)**2*np.log(y/(1-y)))\n",
    "\n",
    "def feas_term_9(a9,y):\n",
    "    return 4*a9*(y-0.5)**3\n",
    "\n",
    "def feas_term_10(a10,y):\n",
    "    return a10*((y-0.5)**4/(y*(1-y)) + 4*(y-0.5)**3*np.log(y/(1-y)))"
   ]
  },
  {
   "cell_type": "code",
   "execution_count": 4,
   "metadata": {
    "collapsed": false
   },
   "outputs": [],
   "source": [
    "#ys = Number of cdf  data points in use for input parameters. \n",
    "#Calculated as the number of numeric y input-parameter cells.\n",
    "\n",
    "# x is the series \n",
    "def qf(x,ys,bound,lower_bound,upper_bound):\n",
    "\n",
    "    mi1=y10_z(x,bound=bound,lower_bound=lower_bound,upper_bound=upper_bound)[0]\n",
    "    mi2=y10_z(x,bound=bound,lower_bound=lower_bound,upper_bound=upper_bound)[1]\n",
    "    mi3=y10_z(x,bound=bound,lower_bound=lower_bound,upper_bound=upper_bound)[2]\n",
    "    mi4=y10_z(x,bound=bound,lower_bound=lower_bound,upper_bound=upper_bound)[3]\n",
    "    mi5=y10_z(x,bound=bound,lower_bound=lower_bound,upper_bound=upper_bound)[4]\n",
    "    mi6=y10_z(x,bound=bound,lower_bound=lower_bound,upper_bound=upper_bound)[5]\n",
    "    mi7=y10_z(x,bound=bound,lower_bound=lower_bound,upper_bound=upper_bound)[6]\n",
    "    mi8=y10_z(x,bound=bound,lower_bound=lower_bound,upper_bound=upper_bound)[7]\n",
    "    mi9=y10_z(x,bound=bound,lower_bound=lower_bound,upper_bound=upper_bound)[8]\n",
    "\n",
    "    y=list(range(1,ys))\n",
    "    qf=pd.DataFrame(y,columns=['y'])\n",
    "    qf['y']=qf['y']/(ys+1)\n",
    "\n",
    "    qf['q2'] = term_1_and_2(a1=mi1[0,0],a2=mi1[0,1],y=qf['y'])\n",
    "        \n",
    "    qf['q3'] = term_1_and_2(a1=mi2[0,0],a2=mi2[0,1],y=qf['y']) +\\\n",
    "               term_3(a3=mi2[0,2],y=qf['y']) \n",
    "\n",
    "    qf['q4'] = term_1_and_2(a1=mi3[0,0],a2=mi3[0,1],y=qf['y']) +\\\n",
    "               term_3(a3=mi3[0,2],y=qf['y'])+\\\n",
    "               term_4(a4=mi3[0,3],y=qf['y'])\n",
    "\n",
    "    qf['q5'] = term_1_and_2(a1=mi4[0,0],a2=mi4[0,1],y=qf['y']) +\\\n",
    "               term_3(a3=mi4[0,2],y=qf['y'])+\\\n",
    "               term_4(a4=mi4[0,3],y=qf['y'])+\\\n",
    "               term_5(a5=mi4[0,4],y=qf['y'])\n",
    "\n",
    "    qf['q6'] = term_1_and_2(a1=mi5[0,0],a2=mi5[0,1],y=qf['y']) +\\\n",
    "               term_3(a3=mi5[0,2],y=qf['y']) +\\\n",
    "               term_4(a4=mi5[0,3],y=qf['y']) +\\\n",
    "               term_5(a5=mi5[0,4],y=qf['y']) +\\\n",
    "                term_6(a6=mi5[0,5],y=qf['y'])\n",
    "\n",
    "    qf['q7'] = term_1_and_2(a1=mi6[0,0],a2=mi6[0,1],y=qf['y']) +\\\n",
    "               term_3(a3=mi6[0,2],y=qf['y']) +\\\n",
    "               term_4(a4=mi6[0,3],y=qf['y']) +\\\n",
    "               term_5(a5=mi6[0,4],y=qf['y']) +\\\n",
    "                term_6(a6=mi6[0,5],y=qf['y']) +\\\n",
    "                term_7(a7=mi6[0,6],y=qf['y'])\n",
    "\n",
    "    qf['q8']=  term_1_and_2(a1=mi7[0,0],a2=mi7[0,1],y=qf['y']) +\\\n",
    "               term_3(a3=mi7[0,2],y=qf['y']) +\\\n",
    "               term_4(a4=mi7[0,3],y=qf['y']) +\\\n",
    "               term_5(a5=mi7[0,4],y=qf['y']) +\\\n",
    "                term_6(a6=mi7[0,5],y=qf['y']) +\\\n",
    "                term_7(a7=mi7[0,6],y=qf['y']) +\\\n",
    "                term_8(a8=mi7[0,7],y=qf['y'])\n",
    "\n",
    "    qf['q9']=  term_1_and_2(a1=mi8[0,0],a2=mi8[0,1],y=qf['y']) +\\\n",
    "               term_3(a3=mi8[0,2],y=qf['y']) +\\\n",
    "               term_4(a4=mi8[0,3],y=qf['y']) +\\\n",
    "               term_5(a5=mi8[0,4],y=qf['y']) +\\\n",
    "                term_6(a6=mi8[0,5],y=qf['y']) +\\\n",
    "                term_7(a7=mi8[0,6],y=qf['y']) +\\\n",
    "                term_8(a8=mi8[0,7],y=qf['y']) +\\\n",
    "                term_9(a9=mi8[0,8],y=qf['y'])\n",
    "\n",
    "    qf['q10']= term_1_and_2(a1=mi9[0,0],a2=mi9[0,1],y=qf['y']) +\\\n",
    "               term_3(a3=mi9[0,2],y=qf['y']) +\\\n",
    "               term_4(a4=mi9[0,3],y=qf['y']) +\\\n",
    "               term_5(a5=mi9[0,4],y=qf['y']) +\\\n",
    "                term_6(a6=mi9[0,5],y=qf['y']) +\\\n",
    "                term_7(a7=mi9[0,6],y=qf['y']) +\\\n",
    "                term_8(a8=mi9[0,7],y=qf['y']) +\\\n",
    "                term_9(a9=mi9[0,8],y=qf['y']) +\\\n",
    "                term_10(a10=mi9[0,9],y=qf['y'])\n",
    "\n",
    "    qf['f2']= (feas_term_2(a2=mi1[0,1],y=qf['y']))**-1\n",
    "\n",
    "    qf['f3']= (feas_term_2(a2=mi2[0,1],y=qf['y'])+ \\\n",
    "               feas_term_3(a3=mi2[0,2],y=qf['y']))**-1\n",
    "\n",
    "    qf['f4']= (feas_term_2(a2=mi3[0,1],y=qf['y'])+\\\n",
    "               feas_term_3(a3=mi3[0,2],y=qf['y'])+\\\n",
    "               feas_term_4(a4=mi3[0,3]))**-1\n",
    "\n",
    "    qf['f5']= (feas_term_2(a2=mi4[0,1],y=qf['y'])+\\\n",
    "               feas_term_3(a3=mi4[0,2],y=qf['y'])+\\\n",
    "               feas_term_4(a4=mi4[0,3])+\\\n",
    "               feas_term_5(a5=mi4[0,4],y=qf['y']))**-1\n",
    "\n",
    "    qf['f6']= (feas_term_2(a2=mi5[0,1],y=qf['y'])+\\\n",
    "               feas_term_3(a3=mi5[0,2],y=qf['y'])+\\\n",
    "               feas_term_4(a4=mi5[0,3])+\\\n",
    "               feas_term_5(a5=mi5[0,4],y=qf['y'])+\\\n",
    "               feas_term_6(a6=mi5[0,5],y=qf['y']))**-1\n",
    "\n",
    "    qf['f7']= (feas_term_2(a2=mi6[0,1],y=qf['y'])+\\\n",
    "               feas_term_3(a3=mi6[0,2],y=qf['y'])+\\\n",
    "               feas_term_4(a4=mi6[0,3])+\\\n",
    "               feas_term_5(a5=mi6[0,4],y=qf['y'])+\\\n",
    "               feas_term_6(a6=mi6[0,5],y=qf['y'])+\\\n",
    "               feas_term_7(a7=mi6[0,6],y=qf['y']))**-1\n",
    "\n",
    "    qf['f8']= (feas_term_2(a2=mi7[0,1],y=qf['y'])+\\\n",
    "               feas_term_3(a3=mi7[0,2],y=qf['y'])+\\\n",
    "               feas_term_4(a4=mi7[0,3])+\\\n",
    "               feas_term_5(a5=mi7[0,4],y=qf['y'])+\\\n",
    "               feas_term_6(a6=mi7[0,5],y=qf['y'])+\\\n",
    "               feas_term_7(a7=mi7[0,6],y=qf['y'])+\\\n",
    "               feas_term_8(a8=mi7[0,7],y=qf['y']))**-1\n",
    "\n",
    "    qf['f9']= (feas_term_2(a2=mi8[0,1],y=qf['y'])+\\\n",
    "               feas_term_3(a3=mi8[0,2],y=qf['y'])+\\\n",
    "               feas_term_4(a4=mi8[0,3])+\\\n",
    "               feas_term_5(a5=mi8[0,4],y=qf['y'])+\\\n",
    "               feas_term_6(a6=mi8[0,5],y=qf['y'])+\\\n",
    "               feas_term_7(a7=mi8[0,6],y=qf['y'])+\\\n",
    "               feas_term_8(a8=mi8[0,7],y=qf['y'])+\\\n",
    "               feas_term_9(a9=mi8[0,8],y=qf['y']))**-1\n",
    "\n",
    "    qf['f10']=(feas_term_2(a2=mi9[0,1],y=qf['y'])+\\\n",
    "               feas_term_3(a3=mi9[0,2],y=qf['y'])+\\\n",
    "               feas_term_4(a4=mi9[0,3])+\\\n",
    "               feas_term_5(a5=mi9[0,4],y=qf['y'])+\\\n",
    "               feas_term_6(a6=mi9[0,5],y=qf['y'])+\\\n",
    "               feas_term_7(a7=mi9[0,6],y=qf['y'])+\\\n",
    "               feas_term_8(a8=mi9[0,7],y=qf['y'])+\\\n",
    "               feas_term_9(a9=mi9[0,8],y=qf['y'])+\\\n",
    "               feas_term_10(a10=mi9[0,9],y=qf['y']))**-1\n",
    "\n",
    "    feas_list= ['f2', 'f3', 'f4', 'f5', 'f6', 'f7', 'f8', 'f9', 'f10']\n",
    "\n",
    "    def feas(x):\n",
    "        \n",
    "        for z in range(len(feas_list)):\n",
    "            if qf[feas_list[z]].min()<0:\n",
    "                print(z) \n",
    "                return feas_list[z-1] \n",
    "        \n",
    "    max_term=feas(feas_list)\n",
    "    \n",
    "    if max_term==None:\n",
    "        max_term=feas_list[-1]    \n",
    "    \n",
    "    \n",
    "    print(max_term)\n",
    "    \n",
    "    if bound==0:\n",
    "        qf['cdf']=qf[max_term.replace('f','q')]\n",
    "        qf['pdf']=qf[max_term]\n",
    "    if bound==1:\n",
    "        qf['cdf']=lower_bound+np.exp(qf[max_term.replace('f','q')])\n",
    "        qf['pdf']=qf[max_term]*np.exp(-qf[max_term.replace('f','q')])\n",
    "    if bound==2:\n",
    "        qf['cdf']=(lower_bound+upper_bound*np.exp(qf[max_term.replace('f','q')]))/(1+np.exp(qf[max_term.replace('f','q')]))       \n",
    "        qf['pdf']=qf[max_term]*(1+np.exp(qf[max_term.replace('f','q')]))**2/((upper_bound-lower_bound)*np.exp(qf[max_term.replace('f','q')]))\n",
    "    qf['prob']=qf['pdf']/qf['pdf'].sum()\n",
    "        \n",
    "    return qf\n"
   ]
  },
  {
   "cell_type": "code",
   "execution_count": 7,
   "metadata": {
    "collapsed": false
   },
   "outputs": [
    {
     "name": "stdout",
     "output_type": "stream",
     "text": [
      "7\n",
      "f8\n"
     ]
    },
    {
     "data": {
      "image/png": "[encoded data removed]",
      "text/plain": [
       "<matplotlib.figure.Figure at 0x9b182b0>"
      ]
     },
     "metadata": {},
     "output_type": "display_data"
    }
   ],
   "source": [
    "x=[ 2.9485 , 3.1825 , 3.356375 , 3.433575 , 3.53175 , 3.583 , 3.601 , 3.655 , 3.7495 , 3.7865 , 3.91 , 3.92025 ,\n",
    "    3.93375 , 4.0415 , 4.15825 , 4.36075 , 4.50775 , 4.52125 , 4.63175 , 4.73475 ,\n",
    "    4.75525 , 4.88925 , 5.0425 , 5.20675 , 5.29325 , 5.3785 , 5.44825 , 5.54625 ,\n",
    "    5.69975 , 5.77575 , 5.99025 , 6.11 , 6.15125 , 6.44025 , 6.8315 ,\n",
    "    7.02675 , 7.2295, 7.32 , 8.27675 , 9.969,]\n",
    "\n",
    "x=pd.DataFrame(x,columns=['x'])\n",
    "\n",
    "#  u = unbounded -> 0\n",
    "#  s = semibounded -> 1 \n",
    "#  b = bounded -> 2\n",
    "\n",
    "dff=qf(x=x['x'].sort_values(), ys=9999, bound=0, lower_bound=max(0,x.x.min()-0.01), upper_bound=x.x.max()+x.x.min())\n",
    "plt.figure(figsize=(10,8))\n",
    "plt.scatter(dff['cdf'].values,dff['pdf'].values,)\n",
    "plt.xlabel('x')\n",
    "plt.ylabel(\"y'\")\n",
    "plt.show()"
   ]
  },
  {
   "cell_type": "code",
   "execution_count": 6,
   "metadata": {
    "collapsed": false
   },
   "outputs": [
    {
     "ename": "NameError",
     "evalue": "name 'df' is not defined",
     "output_type": "error",
     "traceback": [
      "\u001b[0;31m---------------------------------------------------------------------------\u001b[0m",
      "\u001b[0;31mNameError\u001b[0m                                 Traceback (most recent call last)",
      "\u001b[0;32m<ipython-input-6-6bb8ae1a627b>\u001b[0m in \u001b[0;36m<module>\u001b[0;34m()\u001b[0m\n\u001b[1;32m      1\u001b[0m \u001b[1;32mfor\u001b[0m \u001b[0mi\u001b[0m \u001b[1;32min\u001b[0m \u001b[0mrange\u001b[0m\u001b[1;33m(\u001b[0m\u001b[1;36m0\u001b[0m\u001b[1;33m,\u001b[0m\u001b[1;36m21\u001b[0m\u001b[1;33m)\u001b[0m\u001b[1;33m:\u001b[0m\u001b[1;33m\u001b[0m\u001b[0m\n\u001b[0;32m----> 2\u001b[0;31m     \u001b[0mprint\u001b[0m\u001b[1;33m(\u001b[0m\u001b[0mnp\u001b[0m\u001b[1;33m.\u001b[0m\u001b[0mrandom\u001b[0m\u001b[1;33m.\u001b[0m\u001b[0mchoice\u001b[0m\u001b[1;33m(\u001b[0m\u001b[0mdf\u001b[0m\u001b[1;33m[\u001b[0m\u001b[1;34m'cdf'\u001b[0m\u001b[1;33m]\u001b[0m\u001b[1;33m,\u001b[0m \u001b[1;36m1\u001b[0m\u001b[1;33m,\u001b[0m \u001b[0mp\u001b[0m\u001b[1;33m=\u001b[0m\u001b[0mdf\u001b[0m\u001b[1;33m[\u001b[0m\u001b[1;34m'prob'\u001b[0m\u001b[1;33m]\u001b[0m\u001b[1;33m)\u001b[0m\u001b[1;33m)\u001b[0m\u001b[1;33m\u001b[0m\u001b[0m\n\u001b[0m",
      "\u001b[0;31mNameError\u001b[0m: name 'df' is not defined"
     ]
    }
   ],
   "source": [
    "for i in range(0,21):\n",
    "    print(np.random.choice(df['cdf'], 1, p=df['prob']))"
   ]
  }
 ],
 "metadata": {
  "kernelspec": {
   "display_name": "Python 3",
   "language": "python",
   "name": "python3"
  },
  "language_info": {
   "codemirror_mode": {
    "name": "ipython",
    "version": 3
   },
   "file_extension": ".py",
   "mimetype": "text/x-python",
   "name": "python",
   "nbconvert_exporter": "python",
   "pygments_lexer": "ipython3",
   "version": "3.6.0"
  }
 },
 "nbformat": 4,
 "nbformat_minor": 2
}
